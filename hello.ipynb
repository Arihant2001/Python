{
 "cells": [
  {
   "cell_type": "code",
   "execution_count": 39,
   "id": "adequate-blowing",
   "metadata": {},
   "outputs": [
    {
     "data": {
      "text/plain": [
       "'\\nmulti-line comment\\n'"
      ]
     },
     "execution_count": 39,
     "metadata": {},
     "output_type": "execute_result"
    }
   ],
   "source": [
    "'''\n",
    "multi-line comment\n",
    "'''\n",
    "\"\"\"\n",
    "multi-line comment\n",
    "\"\"\""
   ]
  },
  {
   "cell_type": "code",
   "execution_count": 3,
   "id": "italian-semiconductor",
   "metadata": {},
   "outputs": [
    {
     "name": "stdout",
     "output_type": "stream",
     "text": [
      "65 <class 'int'>\n",
      "A <class 'str'>\n"
     ]
    }
   ],
   "source": [
    "num=65\n",
    "print(num,type(num))\n",
    "num=\"A\"\n",
    "print(num,type(num))"
   ]
  },
  {
   "cell_type": "code",
   "execution_count": 4,
   "id": "divine-climb",
   "metadata": {},
   "outputs": [
    {
     "name": "stdout",
     "output_type": "stream",
     "text": [
      "please enter the value100\n",
      "100\n"
     ]
    }
   ],
   "source": [
    "# interactive statement\n",
    "\n",
    "input_var=input(\"please enter the value\")\n",
    "print(input_var)"
   ]
  },
  {
   "cell_type": "code",
   "execution_count": 38,
   "id": "compressed-candy",
   "metadata": {},
   "outputs": [
    {
     "name": "stdout",
     "output_type": "stream",
     "text": [
      "infy 20.127 10\n",
      "infy:20.127:10\n",
      "infy 20.127 10 infy 20.127 10\n",
      "b=20.13\n",
      "c=      10\n",
      "c=10      \n"
     ]
    }
   ],
   "source": [
    "a=\"infy\"\n",
    "b=20.127\n",
    "c=10\n",
    "print(a,b,c)\n",
    "print(a,b,c,sep=\":\")\n",
    "print(a,b,c,end=\" \")\n",
    "print(a,b,c)\n",
    "print(\"b=%0.2f\" %b)\n",
    "print(\"c=%8d\" %c)\n",
    "print(\"c=%-8d\" %c)\n",
    "\n",
    "# Output:\n",
    "\n",
    "# infy 20.127 10\n",
    "# infy:20.127:10    # seperator between variables changed to ‘:’\n",
    "# infy 20.127 10    # seperator between two print statement changed to \" \"\n",
    "# b=20.13           # as the format is 0.2 value is rounded of two decimal digits\n",
    "# c=      10        # right aligned within the reserved 8 spaces \n",
    "# c=10              # left aligned within the reserved 8 spaces as there is – symbol"
   ]
  },
  {
   "cell_type": "code",
   "execution_count": 6,
   "id": "careful-referral",
   "metadata": {},
   "outputs": [
    {
     "name": "stdout",
     "output_type": "stream",
     "text": [
      "30\n"
     ]
    }
   ],
   "source": [
    "num1=10\n",
    "num2=\"20\"\n",
    "result=num1+int(num2)\n",
    "print(result)"
   ]
  },
  {
   "cell_type": "code",
   "execution_count": 11,
   "id": "charged-albany",
   "metadata": {},
   "outputs": [
    {
     "name": "stdout",
     "output_type": "stream",
     "text": [
      "The current number is  1\n",
      "The current number is  2\n",
      "The current number is  3\n",
      "The current number is  4\n",
      "The current number is  5\n"
     ]
    }
   ],
   "source": [
    "for number in 1,2,3,4,5:\n",
    "    print(\"The current number is \",number)"
   ]
  },
  {
   "cell_type": "code",
   "execution_count": 10,
   "id": "plain-raising",
   "metadata": {},
   "outputs": [
    {
     "name": "stdout",
     "output_type": "stream",
     "text": [
      "The current number is  1\n",
      "The current number is  3\n",
      "The current number is  5\n",
      "The current number is  7\n",
      "The current number is  9\n"
     ]
    }
   ],
   "source": [
    "start=1\n",
    "end=10\n",
    "step=2\n",
    "for number in range (start, end, step):\n",
    "    print(\"The current number is \", number)"
   ]
  },
  {
   "cell_type": "code",
   "execution_count": 55,
   "id": "anticipated-promotion",
   "metadata": {},
   "outputs": [
    {
     "name": "stdout",
     "output_type": "stream",
     "text": [
      "The current number is  1\n",
      "The current number is  2\n",
      "The current number is  3\n",
      "The current number is  4\n",
      "---------------------------\n",
      "The current number is  1\n",
      "The current number is  3\n",
      "The current number is  5\n",
      "---------------------------\n",
      "The current number is  5\n",
      "The current number is  4\n",
      "The current number is  3\n",
      "The current number is  2\n",
      "The current number is  1\n"
     ]
    }
   ],
   "source": [
    "for number in range(1,5):\n",
    "    print (\"The current number is \",number)\n",
    "print(\"---------------------------\")\n",
    "\n",
    "for number in range(1,7,2):\n",
    "    print (\"The current number is \",number)\n",
    "print(\"---------------------------\")\n",
    "\n",
    "for number in range(5,0,-1):\n",
    "    print (\"The current number is \",number)"
   ]
  },
  {
   "cell_type": "code",
   "execution_count": 53,
   "id": "billion-prescription",
   "metadata": {},
   "outputs": [
    {
     "name": "stdout",
     "output_type": "stream",
     "text": [
      "1\n",
      "3\n",
      "5\n",
      "7\n",
      "9\n"
     ]
    }
   ],
   "source": [
    "num=10\n",
    "count=0\n",
    "while(count <= num):\n",
    "    if(count%2 == 0):\n",
    "        pass\n",
    "    else:\n",
    "        print(count)\n",
    "    count+=1"
   ]
  },
  {
   "cell_type": "code",
   "execution_count": 18,
   "id": "upper-tackle",
   "metadata": {},
   "outputs": [
    {
     "name": "stdout",
     "output_type": "stream",
     "text": [
      "*********effect of pass by value*********\n",
      "num_val before function call: 10\n",
      "20\n",
      "num_val after function call: 10\n",
      "-----------------------------------------------\n",
      "*********effect of pass by reference*********\n",
      "val_list before function call: [5, 10, 15]\n",
      "val_list after function call: [5, 10, 15, 20]\n"
     ]
    }
   ],
   "source": [
    "def change_number(num):\n",
    "    num+=10\n",
    "#     return num\n",
    "    \n",
    "def change_list(num_list):\n",
    "    num_list.append(20)\n",
    "    \n",
    "num_val=10\n",
    "print(\"*********effect of pass by value*********\")\n",
    "print(\"num_val before function call:\", num_val)\n",
    "change_number(num_val)\n",
    "# print(change_number(num_val)) = 20\n",
    "print(\"num_val after function call:\", num_val)\n",
    "\n",
    "print(\"-----------------------------------------------\")\n",
    "\n",
    "val_list=[5,10,15]\n",
    "print(\"*********effect of pass by reference*********\")\n",
    "print(\"val_list before function call:\", val_list)\n",
    "change_list(val_list)\n",
    "print(\"val_list after function call:\", val_list)"
   ]
  },
  {
   "cell_type": "code",
   "execution_count": 56,
   "id": "violent-frontier",
   "metadata": {},
   "outputs": [
    {
     "name": "stdout",
     "output_type": "stream",
     "text": [
      "code-1: positional arguments\n",
      "Flight Number: FN789\n",
      "Seating Capacity: 200\n",
      "---\n",
      "Flight Number: 300\n",
      "Seating Capacity: FN123\n",
      "-------------------------------------------------\n",
      "code-2: keyword arguments\n",
      "Flight Number: FN789\n",
      "Seating Capacity: 250\n",
      "-------------------------------------------------\n",
      "code-3: default arguments\n",
      "Flight Number: FN789\n",
      "Flight Make: Eagle\n",
      "Seating Capacity: 150\n",
      "---\n",
      "Flight Number: FN234\n",
      "Flight Make: Boeing\n",
      "Seating Capacity: 150\n",
      "---\n",
      "Flight Number: FN678\n",
      "Flight Make: Qantas\n",
      "Seating Capacity: 200\n",
      "-------------------------------------------------\n",
      "code-4: variable argument count\n",
      "Passenger name: Jack\n",
      "Total baggage weight in kg: 25\n"
     ]
    }
   ],
   "source": [
    "def display1(flight_number, seating_capacity):\n",
    "    print(\"Flight Number:\", flight_number)\n",
    "    print(\"Seating Capacity:\", seating_capacity)\n",
    "print(\"code-1: positional arguments\")\n",
    "display1(\"FN789\",200)\n",
    "print(\"---\")\n",
    "# Uncomment and execute the below function call statement and observe the output\n",
    "display1(300,\"FN123\")\n",
    "\n",
    "def display2(flight_number, seating_capacity):\n",
    "    print(\"Flight Number:\", flight_number)\n",
    "    print(\"Seating Capacity:\", seating_capacity)\n",
    "print(\"-------------------------------------------------\")\n",
    "print(\"code-2: keyword arguments\")\n",
    "display2(seating_capacity=250, flight_number=\"FN789\")\n",
    "\n",
    "def display3(flight_number, flight_make=\"Boeing\", seating_capacity=150):\n",
    "    print(\"Flight Number:\", flight_number)\n",
    "    print(\"Flight Make:\", flight_make)\n",
    "    print(\"Seating Capacity:\", seating_capacity)\n",
    "print(\"-------------------------------------------------\")\n",
    "print(\"code-3: default arguments\")\n",
    "display3(\"FN789\",\"Eagle\")\n",
    "print(\"---\")\n",
    "# Uncomment and execute the below function call statements one by one and observe the output\n",
    "display3(\"FN234\")\n",
    "print(\"---\")\n",
    "display3(\"FN678\",\"Qantas\",200)\n",
    "\n",
    "def display4(passenger_name, *baggage_tuple):\n",
    "    print(\"Passenger name:\",passenger_name)\n",
    "    total_wt=0\n",
    "    for baggage_wt in baggage_tuple:\n",
    "        total_wt+=baggage_wt\n",
    "    print(\"Total baggage weight in kg:\", total_wt)\n",
    "print(\"-------------------------------------------------\")\n",
    "print(\"code-4: variable argument count\")\n",
    "display4(\"Jack\",12,8,5)\n",
    "# Uncomment and execute the below function call statements one by one and observe the output\n",
    "# display4(\"Chan\",20,12)\n",
    "# display4(\"Henry\",23)"
   ]
  },
  {
   "cell_type": "code",
   "execution_count": 25,
   "id": "cutting-bulgaria",
   "metadata": {},
   "outputs": [
    {
     "name": "stdout",
     "output_type": "stream",
     "text": [
      "This airline allows baggage limit till 30 kgs\n",
      "Pay the extra baggage charge of 500 rupees\n",
      "This airline now allows baggage limit till 45 kgs\n",
      "Pay the extra baggage charge of 500 rupees\n"
     ]
    }
   ],
   "source": [
    "wt_limit=30\n",
    "\n",
    "def baggage_check(baggage_wt):\n",
    "    extra_baggage_charge=0\n",
    "    if not(baggage_wt>=0 and baggage_wt<=wt_limit):\n",
    "        extra_baggage=baggage_wt-wt_limit\n",
    "        extra_baggage_charge=extra_baggage*100\n",
    "    return extra_baggage_charge\n",
    "\n",
    "def update_baggage_limit(new_wt_limit):\n",
    "#     global wt_limit\n",
    "    wt_limit=new_wt_limit\n",
    "    print(\"This airline now allows baggage limit till\",wt_limit,\"kgs\")\n",
    "    \n",
    "print(\"This airline allows baggage limit till\",wt_limit,\"kgs\")\n",
    "print(\"Pay the extra baggage charge of\",baggage_check(35),\"rupees\")\n",
    "update_baggage_limit(45)\n",
    "print(\"Pay the extra baggage charge of\",baggage_check(35),\"rupees\")"
   ]
  },
  {
   "cell_type": "code",
   "execution_count": 41,
   "id": "comic-causing",
   "metadata": {},
   "outputs": [
    {
     "name": "stdout",
     "output_type": "stream",
     "text": [
      "Iterating the list using range()\n",
      "AL1\n",
      "AL2\n",
      "AL3\n",
      "Iterating the list using keyword in\n",
      "AL1\n",
      "AL2\n",
      "AL3\n"
     ]
    }
   ],
   "source": [
    "list_of_airlines=[\"AL1\",\"AL2\",\"AL3\"]\n",
    "\n",
    "print(\"Iterating the list using range()\")\n",
    "for index in range(0,len(list_of_airlines)):\n",
    "    print(list_of_airlines[index])\n",
    "    \n",
    "print(\"Iterating the list using keyword in\")\n",
    "for airline in list_of_airlines:\n",
    "    print(airline)"
   ]
  },
  {
   "cell_type": "code",
   "execution_count": 42,
   "id": "english-intro",
   "metadata": {},
   "outputs": [
    {
     "name": "stdout",
     "output_type": "stream",
     "text": [
      "Airline found\n"
     ]
    }
   ],
   "source": [
    "# to find out whether an element is there in a list or not, we need not iterate through the list\n",
    "# Instead we can check using if..in syntax\n",
    "\n",
    "list_of_airlines=[\"AL1\",\"AL2\",\"AL3\"]\n",
    "airline=\"AL3\"\n",
    "if airline in list_of_airlines:\n",
    "    print(\"Airline found\")\n",
    "else:\n",
    "    print(\"Airline not found\")"
   ]
  },
  {
   "cell_type": "code",
   "execution_count": 48,
   "id": "becoming-strengthening",
   "metadata": {},
   "outputs": [
    {
     "name": "stdout",
     "output_type": "stream",
     "text": [
      "Length of the PAN card number: 10\n",
      "PAN card\n",
      "Iterating the string using range()\n",
      "A A B G T 6 7 1 5 H \n",
      "\n",
      "Iterating the string using keyword in\n",
      "A A B G T 6 7 1 5 H \n",
      "\n",
      "Searching for a character in string\n",
      "Character is not present\n",
      "The numbers in the PAN card number: 6715\n",
      "Last but one 3 characters in the PAN card: 715\n"
     ]
    },
    {
     "ename": "TypeError",
     "evalue": "'str' object does not support item assignment",
     "output_type": "error",
     "traceback": [
      "\u001b[1;31m---------------------------------------------------------------------------\u001b[0m",
      "\u001b[1;31mTypeError\u001b[0m                                 Traceback (most recent call last)",
      "\u001b[1;32m<ipython-input-48-9dbf7d7d66a0>\u001b[0m in \u001b[0;36m<module>\u001b[1;34m\u001b[0m\n\u001b[0;32m     30\u001b[0m \u001b[0mprint\u001b[0m\u001b[1;33m(\u001b[0m\u001b[1;34m\"The numbers in the PAN card number:\"\u001b[0m\u001b[1;33m,\u001b[0m \u001b[0mpancard_number\u001b[0m\u001b[1;33m[\u001b[0m\u001b[1;36m5\u001b[0m\u001b[1;33m:\u001b[0m\u001b[1;36m9\u001b[0m\u001b[1;33m]\u001b[0m\u001b[1;33m)\u001b[0m\u001b[1;33m\u001b[0m\u001b[1;33m\u001b[0m\u001b[0m\n\u001b[0;32m     31\u001b[0m \u001b[0mprint\u001b[0m\u001b[1;33m(\u001b[0m\u001b[1;34m\"Last but one 3 characters in the PAN card:\"\u001b[0m\u001b[1;33m,\u001b[0m\u001b[0mpancard_number\u001b[0m\u001b[1;33m[\u001b[0m\u001b[1;33m-\u001b[0m\u001b[1;36m4\u001b[0m\u001b[1;33m:\u001b[0m\u001b[1;33m-\u001b[0m\u001b[1;36m1\u001b[0m\u001b[1;33m]\u001b[0m\u001b[1;33m)\u001b[0m\u001b[1;33m\u001b[0m\u001b[1;33m\u001b[0m\u001b[0m\n\u001b[1;32m---> 32\u001b[1;33m \u001b[0mpancard_number\u001b[0m\u001b[1;33m[\u001b[0m\u001b[1;36m2\u001b[0m\u001b[1;33m]\u001b[0m\u001b[1;33m=\u001b[0m\u001b[1;34m\"A\"\u001b[0m    \u001b[1;31m# error, i.e., string is immutable\u001b[0m\u001b[1;33m\u001b[0m\u001b[1;33m\u001b[0m\u001b[0m\n\u001b[0m\u001b[0;32m     33\u001b[0m \u001b[0mprint\u001b[0m\u001b[1;33m(\u001b[0m\u001b[0mpancard_number\u001b[0m\u001b[1;33m)\u001b[0m\u001b[1;33m\u001b[0m\u001b[1;33m\u001b[0m\u001b[0m\n",
      "\u001b[1;31mTypeError\u001b[0m: 'str' object does not support item assignment"
     ]
    }
   ],
   "source": [
    "#Creating a string\n",
    "pancard_number=\"AABGT6715H\"\n",
    "\n",
    "#Length of the string\n",
    "print(\"Length of the PAN card number:\", len(pancard_number))\n",
    "\n",
    "#Concatenating two strings\n",
    "name1 =\"PAN \"\n",
    "name2=\"card\"\n",
    "name=name1+name2\n",
    "print(name)\n",
    "\n",
    "print(\"Iterating the string using range()\")\n",
    "for index in range(0,len(pancard_number)):\n",
    "    print(pancard_number[index], end=\" \")\n",
    "\n",
    "print(\"\\n\")\n",
    "print(\"Iterating the string using keyword in\")\n",
    "for value in pancard_number:\n",
    "    print(value, end=\" \")\n",
    "\n",
    "print(\"\\n\")\n",
    "print(\"Searching for a character in string\")\n",
    "if \"Z\" in pancard_number:\n",
    "    print(\"Character present\")\n",
    "else:\n",
    "    print(\"Character is not present\")\n",
    "    \n",
    "# Slicing a string\n",
    "print(\"The numbers in the PAN card number:\", pancard_number[5:9])\n",
    "print(\"Last but one 3 characters in the PAN card:\",pancard_number[-4:-1])\n",
    "pancard_number[2]=\"A\"    # error, i.e., string is immutable\n",
    "print(pancard_number)"
   ]
  },
  {
   "cell_type": "code",
   "execution_count": 49,
   "id": "clear-hunger",
   "metadata": {},
   "outputs": [
    {
     "name": "stdout",
     "output_type": "stream",
     "text": [
      "22\n"
     ]
    }
   ],
   "source": [
    "# random module: helps in generating random numbers.\n",
    "# generates a random number between x and y-1 (both inclusive) using the randrange function of the random module\n",
    "\n",
    "import random\n",
    "x=10\n",
    "y=50\n",
    "print(random.randrange(x,y))"
   ]
  },
  {
   "cell_type": "code",
   "execution_count": 59,
   "id": "affecting-thesis",
   "metadata": {},
   "outputs": [
    {
     "name": "stdout",
     "output_type": "stream",
     "text": [
      "smallest integer greater than or equal to 234.01 : 235\n",
      "largest integer smaller than or equal to 234.01 : 234\n",
      "factorial of 6 : 720\n",
      "absolute value of -27.01 : 27.01\n"
     ]
    }
   ],
   "source": [
    "# math module\n",
    "\n",
    "# math.ceil(x)\n",
    "# math.floor(x)\n",
    "# math.factorial(x)\n",
    "# math.fabs(x):     absolute value of x\n",
    "\n",
    "import math\n",
    "num1=234.01\n",
    "num2=6\n",
    "num3=-27.01\n",
    "print(\"smallest integer greater than or equal to\",num1,\":\",math.ceil(num1))\n",
    "print(\"largest integer smaller than or equal to\",num1,\":\",math.floor(num1))\n",
    "print(\"factorial of\",num2,\":\", math.factorial(num2))\n",
    "print(\"absolute value of\",num3,\":\",math.fabs(num3))"
   ]
  },
  {
   "cell_type": "code",
   "execution_count": 60,
   "id": "rising-finder",
   "metadata": {},
   "outputs": [
    {
     "name": "stdout",
     "output_type": "stream",
     "text": [
      "Good Morning, this is final call to AL passengers for flight AL 466 to take off at 8.40A.M.\n",
      "Welcome to Air Lines.\n",
      "Passengers are requested to have their breakfast.\n",
      "Flight Number is specified to the passengers.\n",
      "Total number of times flight service name is specified in the boarding call: 2\n",
      "THANK YOU ALL..HAVE A NICE JOURNEY!\n",
      "thank you all..have a nice journey!\n"
     ]
    }
   ],
   "source": [
    "boarding_call=\"Good Evening, this is final call to AL passengers for flight AL 466 to take off at 8.40A.M.\"\n",
    "if(boarding_call.startswith(\"Good Evening\")):\n",
    "    print(boarding_call.replace(\"Good Evening\",\"Good Morning\"))\n",
    "if(boarding_call.find(\"AL\"))>=0:\n",
    "    print(\"Welcome to Air Lines.\")\n",
    "if(boarding_call.endswith(\"A.M.\")):\n",
    "    print(\"Passengers are requested to have their breakfast.\")\n",
    "a=boarding_call.split(\" \")\n",
    "for i in a:\n",
    "    if(i.isdigit()):\n",
    "        print(\"Flight Number is specified to the passengers.\")\n",
    "print(\"Total number of times flight service name is specified in the boarding call:\",boarding_call.count(\"AL\"))\n",
    "message=\"Thank you all..Have a nice journey!\"\n",
    "print(message.upper())\n",
    "print(message.lower())"
   ]
  },
  {
   "cell_type": "code",
   "execution_count": 32,
   "id": "wrapped-receipt",
   "metadata": {},
   "outputs": [
    {
     "name": "stdout",
     "output_type": "stream",
     "text": [
      "Pattern found\n"
     ]
    }
   ],
   "source": [
    "import re\n",
    "if(re.search(r\"Air\",\"Airline\")!=None):\n",
    "    print(\"Pattern found\")\n",
    "else:\n",
    "    print(\"Pattern not found\")"
   ]
  },
  {
   "cell_type": "code",
   "execution_count": 33,
   "id": "adverse-excerpt",
   "metadata": {},
   "outputs": [
    {
     "name": "stdout",
     "output_type": "stream",
     "text": [
      "Flight Savana Airlines a2134\n",
      "Plane Savana Airlines a2134\n"
     ]
    }
   ],
   "source": [
    "import re\n",
    "flight_details=\"Flight Savana Airlines a2134\"\n",
    "print(flight_details)\n",
    "print(re.sub(r\"Flight\",r\"Plane\",flight_details))"
   ]
  },
  {
   "cell_type": "code",
   "execution_count": 37,
   "id": "laughing-brooklyn",
   "metadata": {},
   "outputs": [
    {
     "name": "stdout",
     "output_type": "stream",
     "text": [
      "JINGLE BELLS JINGLE BELLS JINGLE ALL THE WAY\n",
      "JINGLE Bells jingle Bells Jingle All The Way\n",
      "1\n"
     ]
    }
   ],
   "source": [
    "song=\"JINGLE Bells jingle Bells Jingle All The Way\"\n",
    "print(song.upper())\n",
    "print(song)\n",
    "song_words=song.split()\n",
    "count=0\n",
    "for word in song_words:\n",
    "    if(word.startswith(\"jingle\")):\n",
    "        count=count+1\n",
    "print(count)"
   ]
  },
  {
   "cell_type": "code",
   "execution_count": 1,
   "id": "extra-vaccine",
   "metadata": {},
   "outputs": [
    {
     "name": "stdout",
     "output_type": "stream",
     "text": [
      "Some error occured\n",
      "Returning back from function.\n"
     ]
    }
   ],
   "source": [
    "def calculate_expenditure(list_of_expenditure):\n",
    "    total=0\n",
    "    try:\n",
    "        for expenditure in list_of_expenditure:\n",
    "            total+=expenditure\n",
    "        print(total)\n",
    "    except:\n",
    "        print(\"Some error occured\")\n",
    "    print(\"Returning back from function.\")\n",
    "list_of_values=[100,200,300,\"400\",500]\n",
    "calculate_expenditure(list_of_values)"
   ]
  },
  {
   "cell_type": "code",
   "execution_count": 2,
   "id": "otherwise-meditation",
   "metadata": {},
   "outputs": [
    {
     "name": "stdout",
     "output_type": "stream",
     "text": [
      "Wrong data type\n"
     ]
    }
   ],
   "source": [
    "def calculate_expenditure(list_of_expenditure):\n",
    "    total=0\n",
    "    try:\n",
    "        for expenditure in list_of_expenditure:\n",
    "            total+=expenditure\n",
    "        print(\"Total:\",total)\n",
    "        avg=total/num_values\n",
    "        print(\"Average:\",avg)\n",
    "    except ZeroDivisionError:\n",
    "        print(\"Divide by Zero error\")\n",
    "    except TypeError:\n",
    "        print(\"Wrong data type\")\n",
    "    except:\n",
    "        print(\"Some error occured\")\n",
    "list_of_values=[100,200,300,\"400\",500]\n",
    "num_values=0\n",
    "calculate_expenditure(list_of_values)"
   ]
  },
  {
   "cell_type": "code",
   "execution_count": 3,
   "id": "cellular-skiing",
   "metadata": {},
   "outputs": [
    {
     "name": "stdout",
     "output_type": "stream",
     "text": [
      "Total: 1500\n",
      "Name error occured\n"
     ]
    }
   ],
   "source": [
    "# Exception handling inside a function\n",
    "# If an exception occurs inside a function and if the exception is not caught inside it, then the exception is transferred to the function call. We have another opportunity to catch it, if we write function call inside another try and except block.\n",
    "\n",
    "def calculate_sum(list_of_expenditure):\n",
    "    total=0\n",
    "    try:\n",
    "        for expenditure in list_of_expenditure:\n",
    "            total+=expenditure\n",
    "        print(\"Total:\",total)\n",
    "        avg=total/no_values\n",
    "        print(\"Average:\",avg)\n",
    "    except ZeroDivisionError:\n",
    "        print(\"Divide by Zero error\")\n",
    "    except TypeError:\n",
    "        print(\"Wrong data type\")\n",
    "try:\n",
    "    list_of_values=[100,200,300,400,500]\n",
    "    num_values=len(list_of_values)\n",
    "    calculate_sum(list_of_values)\n",
    "except NameError:\n",
    "    print(\"Name error occured\")\n",
    "except:\n",
    "    print(\"Some error occured\")"
   ]
  },
  {
   "cell_type": "code",
   "execution_count": 4,
   "id": "working-institution",
   "metadata": {},
   "outputs": [
    {
     "name": "stdout",
     "output_type": "stream",
     "text": [
      "Value Error Occurred\n",
      "Take the card out of ATM\n"
     ]
    }
   ],
   "source": [
    "# finally\n",
    "# Sometimes in programming we need to execute some code irrespective of whether the primary program logic itself succeeds or fails to do its job. In Python we can achieve this using a finally block. A finally block of statement is an optional part of the try-except statements. A code written inside the finally block will ALWAYS be executed.\n",
    "\n",
    "# finally block is majorly used to close the database connections in the programs which involves database connectivity.\n",
    "\n",
    "balance=1000\n",
    "amount=\"300Rs\"\n",
    "def take_card():\n",
    "    print(\"Take the card out of ATM\")\n",
    "try:\n",
    "    if balance>=int(amount):\n",
    "        print(\"Withdraw\")\n",
    "    else:\n",
    "        print(\"Invalid amount\")\n",
    "except TypeError:\n",
    "    print(\"Type Error Occurred\")\n",
    "except ValueError:\n",
    "    print(\"Value Error Occurred\")\n",
    "except:\n",
    "    print(\"Some error Occurred\")\n",
    "finally:\n",
    "    take_card()"
   ]
  },
  {
   "cell_type": "code",
   "execution_count": 5,
   "id": "representative-scope",
   "metadata": {},
   "outputs": [
    {
     "name": "stdout",
     "output_type": "stream",
     "text": [
      "[10, 20, 30, 40, 50, 25]\n"
     ]
    }
   ],
   "source": [
    "list1=[10,20,30,40,50]\n",
    "list1.insert(7,25)\n",
    "print(list1)"
   ]
  },
  {
   "cell_type": "code",
   "execution_count": 6,
   "id": "specified-bulgaria",
   "metadata": {},
   "outputs": [
    {
     "name": "stdout",
     "output_type": "stream",
     "text": [
      "Before function call: [10, 20, 30, 40, 50]\n",
      "Inside function: [10, 20, 30, 40, 50, 60, 70, 80]\n",
      "After function call: [10, 20, 30, 40, 50]\n"
     ]
    }
   ],
   "source": [
    "def modify_list(arg_list):\n",
    "    arg_list=arg_list + [60, 70, 80]\n",
    "    print(\"Inside function:\", arg_list)\n",
    "    \n",
    "i_list=[10,20,30,40,50]\n",
    "print(\"Before function call:\", i_list)\n",
    "modify_list(i_list)\n",
    "print(\"After function call:\", i_list)"
   ]
  },
  {
   "cell_type": "code",
   "execution_count": 7,
   "id": "coral-gravity",
   "metadata": {},
   "outputs": [
    {
     "name": "stdout",
     "output_type": "stream",
     "text": [
      "[0, 0, 2, 6, 12]\n"
     ]
    }
   ],
   "source": [
    "my_list=[0]*5\n",
    "for index in range(1,5):\n",
    "    my_list[index]=(index-1)*index\n",
    "                    \n",
    "print(my_list)"
   ]
  },
  {
   "cell_type": "code",
   "execution_count": 9,
   "id": "supposed-apollo",
   "metadata": {},
   "outputs": [
    {
     "name": "stdout",
     "output_type": "stream",
     "text": [
      "0\n",
      "thisisfirstline\n",
      "\n",
      "17\n",
      "you are reading the second line\n",
      "\n"
     ]
    }
   ],
   "source": [
    "fhr=open(\"data.txt\",\"r\")\n",
    "cur_pos=fhr.tell()\n",
    "print(cur_pos)\n",
    "data =fhr.readline()\n",
    "print(data)\n",
    "\n",
    "\n",
    "cur_pos=fhr.tell()\n",
    "print(cur_pos)\n",
    "data =fhr.readline()\n",
    "print(data)\n",
    "fhr.close()"
   ]
  },
  {
   "cell_type": "code",
   "execution_count": 10,
   "id": "rocky-pontiac",
   "metadata": {},
   "outputs": [
    {
     "name": "stdout",
     "output_type": "stream",
     "text": [
      "18\n",
      "closed? False\n",
      "after closing the file closed? True\n"
     ]
    }
   ],
   "source": [
    "FHW=open(\"data.txt\",\"w\")\n",
    "FHW.write(\"written some thing\")\n",
    "print(FHW.tell())\n",
    "print(\"closed?\",FHW.closed)\n",
    "FHW.close()\n",
    "print(\"after closing the file closed?\",FHW.closed)"
   ]
  },
  {
   "cell_type": "code",
   "execution_count": 11,
   "id": "satisfactory-prairie",
   "metadata": {},
   "outputs": [
    {
     "name": "stdout",
     "output_type": "stream",
     "text": [
      "0 1 2 3 4 5 6 7 8 "
     ]
    }
   ],
   "source": [
    "set_1={1,2,3,1,2,4,5,3,4,8,9,7,10}\n",
    "for index in range(len(set_1)):\n",
    "    print(index,end=\" \")"
   ]
  },
  {
   "cell_type": "code",
   "execution_count": 12,
   "id": "alone-proceeding",
   "metadata": {},
   "outputs": [
    {
     "name": "stdout",
     "output_type": "stream",
     "text": [
      "[10, 8, 6, 4, 2]\n"
     ]
    }
   ],
   "source": [
    "def value(num1):\n",
    "    list1=[]\n",
    "    while num1!=0:\n",
    "        if num1%2==0:\n",
    "            list1.append(num1)\n",
    "        else:\n",
    "            break\n",
    "        num1-=2\n",
    "    print(list1)\n",
    "value(10)"
   ]
  },
  {
   "cell_type": "code",
   "execution_count": 13,
   "id": "imperial-torture",
   "metadata": {},
   "outputs": [
    {
     "name": "stdout",
     "output_type": "stream",
     "text": [
      "14\n"
     ]
    }
   ],
   "source": [
    "def sample(value):\n",
    "    sum1=0\n",
    "    for i in value:\n",
    "        if i%2!=0:\n",
    "            sum1+=value[i]\n",
    "        else:\n",
    "            sum1-=i\n",
    "    print(sum1)\n",
    "dict1={1:2,2:4,3:6,5:8}\n",
    "sample(dict1)"
   ]
  },
  {
   "cell_type": "code",
   "execution_count": 14,
   "id": "automotive-bradley",
   "metadata": {},
   "outputs": [
    {
     "name": "stdout",
     "output_type": "stream",
     "text": [
      "10\n",
      "<class 'int'>\n"
     ]
    }
   ],
   "source": [
    "tuple1=(10)\n",
    "print(tuple1)\n",
    "print(type(tuple1))"
   ]
  },
  {
   "cell_type": "code",
   "execution_count": 15,
   "id": "afraid-recognition",
   "metadata": {},
   "outputs": [
    {
     "name": "stdout",
     "output_type": "stream",
     "text": [
      "apple boy cat\n"
     ]
    }
   ],
   "source": [
    "sample_dict={'a':\"apple\",'b':\"ball\"}\n",
    "sample_dict.update({'b':\"boy\", 'c':'cat' })\n",
    "print(sample_dict['a'],sample_dict.get('b'),sample_dict.get('c'))"
   ]
  },
  {
   "cell_type": "code",
   "execution_count": 16,
   "id": "demanding-custom",
   "metadata": {},
   "outputs": [
    {
     "name": "stdout",
     "output_type": "stream",
     "text": [
      "Sum finally\n",
      "Invocation name error\n",
      "Invocation finally\n"
     ]
    }
   ],
   "source": [
    "def find_sum(a,b):\n",
    "    try:\n",
    "        print(a+c)\n",
    "    except ValueError:\n",
    "        print(\"Function name error\")\n",
    "    finally:\n",
    "        print(\"Sum finally\")\n",
    "try:\n",
    "    find_sum(12,13)\n",
    "except NameError:\n",
    "    print(\"Invocation name error\")\n",
    "finally:\n",
    "    print(\"Invocation finally\")"
   ]
  },
  {
   "cell_type": "code",
   "execution_count": null,
   "id": "pregnant-smoke",
   "metadata": {},
   "outputs": [],
   "source": []
  }
 ],
 "metadata": {
  "kernelspec": {
   "display_name": "Python 3",
   "language": "python",
   "name": "python3"
  },
  "language_info": {
   "codemirror_mode": {
    "name": "ipython",
    "version": 3
   },
   "file_extension": ".py",
   "mimetype": "text/x-python",
   "name": "python",
   "nbconvert_exporter": "python",
   "pygments_lexer": "ipython3",
   "version": "3.7.4"
  }
 },
 "nbformat": 4,
 "nbformat_minor": 5
}
